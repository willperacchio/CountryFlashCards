{
 "cells": [
  {
   "cell_type": "code",
   "execution_count": null,
   "id": "614f9c43",
   "metadata": {},
   "outputs": [],
   "source": [
    "# conda install geoplot -c conda-forge"
   ]
  },
  {
   "cell_type": "code",
   "execution_count": null,
   "id": "6cb8aa5b",
   "metadata": {},
   "outputs": [],
   "source": [
    "import pandas as pd\n",
    "import geodatasets\n",
    "import geoplot as gpd\n",
    "import geopandas as gpd\n",
    "import geoplot.crs as gcrs"
   ]
  },
  {
   "cell_type": "code",
   "execution_count": null,
   "id": "00aafda1",
   "metadata": {},
   "outputs": [],
   "source": [
    "maps = gpd.read_file(\"World_Countries_Generalized.geojson\")\n",
    "df = pd.json_normalize(maps)"
   ]
  },
  {
   "cell_type": "code",
   "execution_count": null,
   "id": "a366cdc2",
   "metadata": {},
   "outputs": [],
   "source": [
    "df.iloc[0]"
   ]
  },
  {
   "cell_type": "code",
   "execution_count": null,
   "id": "dc9c3f4a",
   "metadata": {},
   "outputs": [],
   "source": [
    "import requests\n",
    "url = 'https://github.com/holtzy/The-Python-Graph-Gallery/blob/master/static/data/france.geojson'\n",
    "response = requests.get(url)\n",
    "response\n",
    "data = response.json()\n",
    "data\n",
    "df1 = pd.json_normalize(data['features'])\n",
    "df1"
   ]
  },
  {
   "cell_type": "code",
   "execution_count": null,
   "id": "8692857d",
   "metadata": {},
   "outputs": [],
   "source": [
    "maps.iloc[0]"
   ]
  },
  {
   "cell_type": "code",
   "execution_count": null,
   "id": "ce30b830",
   "metadata": {},
   "outputs": [],
   "source": [
    "maps[0:1].plot(column=\"geometry\", linewidth=.3, figsize=(15, 10))"
   ]
  },
  {
   "cell_type": "code",
   "execution_count": null,
   "id": "70d30c67",
   "metadata": {},
   "outputs": [],
   "source": [
    "maps.head()"
   ]
  },
  {
   "cell_type": "code",
   "execution_count": null,
   "id": "b71ce6cc",
   "metadata": {},
   "outputs": [],
   "source": [
    "from matplotlib import pyplot as plt\n",
    "\n",
    "for x in range(len(maps.index)):\n",
    "    maps[x:(x+1)].plot(column=\"geometry\", figsize=(15, 10))\n",
    "    plt.axis('off')\n",
    "    plt.savefig(\"output/\" + maps.iloc[x][\"ISO\"] + '.png', bbox_inches='tight')"
   ]
  },
  {
   "cell_type": "code",
   "execution_count": null,
   "id": "bb781851",
   "metadata": {},
   "outputs": [],
   "source": []
  }
 ],
 "metadata": {
  "kernelspec": {
   "display_name": "Python 3 (ipykernel)",
   "language": "python",
   "name": "python3"
  },
  "language_info": {
   "codemirror_mode": {
    "name": "ipython",
    "version": 3
   },
   "file_extension": ".py",
   "mimetype": "text/x-python",
   "name": "python",
   "nbconvert_exporter": "python",
   "pygments_lexer": "ipython3",
   "version": "3.10.9"
  }
 },
 "nbformat": 4,
 "nbformat_minor": 5
}
